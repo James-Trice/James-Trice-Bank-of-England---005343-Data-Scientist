{
 "cells": [
  {
   "cell_type": "code",
   "execution_count": 137,
   "source": [
    "# import packages needed for analysis\r\n",
    "import pandas as pd\r\n",
    "import numpy as np"
   ],
   "outputs": [],
   "metadata": {}
  },
  {
   "cell_type": "markdown",
   "source": [
    "## 1.\tCreate a combined dataframe with Natwest and LBG income data for year 2020 full year  \r\n",
    "### a.\tData sets  \r\n",
    "#### i.\tNatwest data on sheet '1.1 - Income Statement'  \r\n",
    "#### ii.\tLBG data  on sheet '35'"
   ],
   "metadata": {}
  },
  {
   "cell_type": "code",
   "execution_count": 138,
   "source": [
    "# read LBG excel file and save income data table to dataframe. Worksheet name provided in the question\r\n",
    "# the correct columns and rows to extract are identified by looking at the correct sheet when opening the file\r\n",
    "# blank rows that aren't part of the table are removed, and columns are renamed to something more useful\r\n",
    "\r\n",
    "src_file1 = 'Lloyds Banking Group 2020 EOY.xlsx'\r\n",
    "\r\n",
    "df1 = pd.read_excel(src_file1, sheet_name='35',header=4, usecols=[0,4])\r\n",
    "df1 = df1.rename(columns={'Unnamed: 0': 'Measures',2020:'LBG'})\r\n",
    "df1 = df1.dropna(subset=['Measures'])"
   ],
   "outputs": [],
   "metadata": {}
  },
  {
   "cell_type": "code",
   "execution_count": 139,
   "source": [
    "# read Natwest excel file and save income data table to dataframe. Worksheet name provided in the question\r\n",
    "# the correct columns and rows to extract are identified by looking at the correct sheet when opening the file\r\n",
    "# blank rows that aren't part of the table are removed, and columns are renamed to something more useful\r\n",
    "# some measures that will be needed later are renamed to match the other imported data set\r\n",
    "# there is also an error in the Net Interest Income value as recorded in the excel file. The correct value can be determined from the quarterly values and updated accordingly\r\n",
    "\r\n",
    "src_file2 = 'NatWest Group 2020 EOY .xlsx'\r\n",
    "\r\n",
    "df2 = pd.read_excel(src_file2, sheet_name='1.1 - Income Statement',header=6, usecols=[1,18])\r\n",
    "df2 = df2.rename(columns={'Unnamed: 1': 'Measures','£m.11':'Natwest'})\r\n",
    "df2 = df2.dropna(subset=['Measures'])\r\n",
    "df2 = df2.replace(['Total non-interest income','Operating expenses','Impairment losses','7#df749'],['Other income','Total operating expenses','Impairment',7749])"
   ],
   "outputs": [],
   "metadata": {}
  },
  {
   "cell_type": "code",
   "execution_count": 140,
   "source": [
    "# the two data frames are joined on the names of the measures\r\n",
    "joined_df =pd.merge(df1,df2, how=\"outer\", on='Measures')"
   ],
   "outputs": [],
   "metadata": {}
  },
  {
   "cell_type": "markdown",
   "source": [
    "### b.\tExtract the following lines into one dataframe  \r\n",
    "#### i.\tNet interest income (this is the amount of income the firm receives from interest payments)  \r\n",
    "#### ii.\tTotal non-interest income / other income (this is income from other sources e.g. commission)  \r\n",
    "#### iii.\tTotal income  \r\n",
    "#### iv.\tOperating expenses (this is the cost/expense of running the business)  \r\n",
    "#### v.\tImpairments (this is the amount of money the firm has lost due to loan defaults)  \r\n"
   ],
   "metadata": {}
  },
  {
   "cell_type": "code",
   "execution_count": 141,
   "source": [
    "# the measures listed in the question are extracted into a new dataframe\r\n",
    "# it is noted that the LBG data has two rows for Total Income, one with Insurance Claims and one without. I have used the one labelled the same as the question\r\n",
    "filtered_df = joined_df[joined_df['Measures'].isin(['Net interest income', 'Other income','Total income','Total operating expenses','Impairment'])]\r\n",
    "print(filtered_df)"
   ],
   "outputs": [
    {
     "output_type": "stream",
     "name": "stdout",
     "text": [
      "                    Measures    LBG Natwest\n",
      "2        Net interest income  10749    7749\n",
      "9               Other income  18418    3047\n",
      "10              Total income  29167   10796\n",
      "15  Total operating expenses  -9745   -7905\n",
      "16                Impairment  -4155   -3242\n"
     ]
    }
   ],
   "metadata": {}
  },
  {
   "cell_type": "markdown",
   "source": [
    "#### c.\tCreate a new data frame containing all instances of the word ‘income’ and their respective values for 2020"
   ],
   "metadata": {}
  },
  {
   "cell_type": "code",
   "execution_count": 147,
   "source": [
    "# the question isn't clear which dataframe should be used, so I have used the one created in the previous question, but it can be easily amended if needed \r\n",
    "income_df = filtered_df[filtered_df['Measures'].str.contains(\"income\")]\r\n",
    "print(income_df)"
   ],
   "outputs": [
    {
     "output_type": "stream",
     "name": "stdout",
     "text": [
      "               Measures    LBG Natwest\n",
      "2   Net interest income  10749    7749\n",
      "9          Other income  18418    3047\n",
      "10         Total income  29167   10796\n"
     ]
    }
   ],
   "metadata": {}
  },
  {
   "cell_type": "markdown",
   "source": [
    "## 2.\tCalculations (we want to check the data and create a new metric)  \r\n",
    "### a.\tFor both firms  \r\n",
    "#### i.\tcreate a data validation rule = net interest income + non-interest income = total income and create a flag/exception if rule fails  \r\n",
    "#### ii.\tCalculate a new metric, profit before tax = total income - expenses - impairments  "
   ],
   "metadata": {}
  },
  {
   "cell_type": "code",
   "execution_count": 143,
   "source": [
    "# I have transposed the dataframe to make it easier to perform calculations on\r\n",
    "calculations_df = filtered_df.set_index('Measures').T"
   ],
   "outputs": [],
   "metadata": {}
  },
  {
   "cell_type": "code",
   "execution_count": 144,
   "source": [
    "# new columns are created to save the results from the new calculations, as defined in the question\r\n",
    "# it should be noted that the expenses and impairments in both data sets are recorded as negative, so those values should be added to the income value rather than subtracted\r\n",
    "calculations_df['Validation'] = calculations_df['Net interest income']+calculations_df['Other income']==calculations_df['Total income']\r\n",
    "calculations_df['Profit before tax'] = calculations_df['Total income'] + calculations_df['Total operating expenses'] + calculations_df['Impairment']\r\n",
    "calculations_df.head()"
   ],
   "outputs": [
    {
     "output_type": "execute_result",
     "data": {
      "text/html": [
       "<div>\n",
       "<style scoped>\n",
       "    .dataframe tbody tr th:only-of-type {\n",
       "        vertical-align: middle;\n",
       "    }\n",
       "\n",
       "    .dataframe tbody tr th {\n",
       "        vertical-align: top;\n",
       "    }\n",
       "\n",
       "    .dataframe thead th {\n",
       "        text-align: right;\n",
       "    }\n",
       "</style>\n",
       "<table border=\"1\" class=\"dataframe\">\n",
       "  <thead>\n",
       "    <tr style=\"text-align: right;\">\n",
       "      <th>Measures</th>\n",
       "      <th>Net interest income</th>\n",
       "      <th>Other income</th>\n",
       "      <th>Total income</th>\n",
       "      <th>Total operating expenses</th>\n",
       "      <th>Impairment</th>\n",
       "      <th>Validation</th>\n",
       "      <th>Profit before tax</th>\n",
       "    </tr>\n",
       "  </thead>\n",
       "  <tbody>\n",
       "    <tr>\n",
       "      <td>LBG</td>\n",
       "      <td>10749</td>\n",
       "      <td>18418</td>\n",
       "      <td>29167</td>\n",
       "      <td>-9745</td>\n",
       "      <td>-4155</td>\n",
       "      <td>True</td>\n",
       "      <td>15267</td>\n",
       "    </tr>\n",
       "    <tr>\n",
       "      <td>Natwest</td>\n",
       "      <td>7749</td>\n",
       "      <td>3047</td>\n",
       "      <td>10796</td>\n",
       "      <td>-7905</td>\n",
       "      <td>-3242</td>\n",
       "      <td>True</td>\n",
       "      <td>-351</td>\n",
       "    </tr>\n",
       "  </tbody>\n",
       "</table>\n",
       "</div>"
      ],
      "text/plain": [
       "Measures Net interest income Other income Total income  \\\n",
       "LBG                    10749        18418        29167   \n",
       "Natwest                 7749         3047        10796   \n",
       "\n",
       "Measures Total operating expenses Impairment  Validation Profit before tax  \n",
       "LBG                         -9745      -4155        True             15267  \n",
       "Natwest                     -7905      -3242        True              -351  "
      ]
     },
     "metadata": {},
     "execution_count": 144
    }
   ],
   "metadata": {}
  },
  {
   "cell_type": "markdown",
   "source": [
    "## 3.\tModelling assumptions (We want to apply modelling assumptions to the data)  \r\n",
    "#### i.\tFor Natwest, adjust the net interest income line up by 50%  \r\n",
    "#### ii.\tFor LBG, adjust operating expenses line up by 75%"
   ],
   "metadata": {}
  },
  {
   "cell_type": "code",
   "execution_count": 145,
   "source": [
    "# the adjustments are performed in place in the dataframe\r\n",
    "calculations_df.loc['Natwest','Net interest income'] = calculations_df.loc['Natwest','Net interest income'] *1.5\r\n",
    "calculations_df.loc['LBG','Total operating expenses'] = calculations_df.loc['LBG','Total operating expenses'] *1.75"
   ],
   "outputs": [],
   "metadata": {}
  },
  {
   "cell_type": "markdown",
   "source": [
    "### b.\tRecalculate profit before tax for both firms"
   ],
   "metadata": {}
  },
  {
   "cell_type": "code",
   "execution_count": 146,
   "source": [
    "# the new Profit before tax is recorded in a new column so it can be compared to the previous value\r\n",
    "# Total income hasn't been updated in line with the change above to Net interest income, so the constituant parts are used instead\r\n",
    "calculations_df['New profit before tax'] = calculations_df['Net interest income'] + calculations_df['Other income']+ calculations_df['Total operating expenses'] + calculations_df['Impairment']\r\n",
    "calculations_df.head()"
   ],
   "outputs": [
    {
     "output_type": "execute_result",
     "data": {
      "text/html": [
       "<div>\n",
       "<style scoped>\n",
       "    .dataframe tbody tr th:only-of-type {\n",
       "        vertical-align: middle;\n",
       "    }\n",
       "\n",
       "    .dataframe tbody tr th {\n",
       "        vertical-align: top;\n",
       "    }\n",
       "\n",
       "    .dataframe thead th {\n",
       "        text-align: right;\n",
       "    }\n",
       "</style>\n",
       "<table border=\"1\" class=\"dataframe\">\n",
       "  <thead>\n",
       "    <tr style=\"text-align: right;\">\n",
       "      <th>Measures</th>\n",
       "      <th>Net interest income</th>\n",
       "      <th>Other income</th>\n",
       "      <th>Total income</th>\n",
       "      <th>Total operating expenses</th>\n",
       "      <th>Impairment</th>\n",
       "      <th>Validation</th>\n",
       "      <th>Profit before tax</th>\n",
       "      <th>New profit before tax</th>\n",
       "    </tr>\n",
       "  </thead>\n",
       "  <tbody>\n",
       "    <tr>\n",
       "      <td>LBG</td>\n",
       "      <td>10749</td>\n",
       "      <td>18418</td>\n",
       "      <td>29167</td>\n",
       "      <td>-17053.8</td>\n",
       "      <td>-4155</td>\n",
       "      <td>True</td>\n",
       "      <td>15267</td>\n",
       "      <td>7958.25</td>\n",
       "    </tr>\n",
       "    <tr>\n",
       "      <td>Natwest</td>\n",
       "      <td>11623.5</td>\n",
       "      <td>3047</td>\n",
       "      <td>10796</td>\n",
       "      <td>-7905</td>\n",
       "      <td>-3242</td>\n",
       "      <td>True</td>\n",
       "      <td>-351</td>\n",
       "      <td>3523.5</td>\n",
       "    </tr>\n",
       "  </tbody>\n",
       "</table>\n",
       "</div>"
      ],
      "text/plain": [
       "Measures Net interest income Other income Total income  \\\n",
       "LBG                    10749        18418        29167   \n",
       "Natwest              11623.5         3047        10796   \n",
       "\n",
       "Measures Total operating expenses Impairment  Validation Profit before tax  \\\n",
       "LBG                      -17053.8      -4155        True             15267   \n",
       "Natwest                     -7905      -3242        True              -351   \n",
       "\n",
       "Measures New profit before tax  \n",
       "LBG                    7958.25  \n",
       "Natwest                 3523.5  "
      ]
     },
     "metadata": {},
     "execution_count": 146
    }
   ],
   "metadata": {}
  },
  {
   "cell_type": "markdown",
   "source": [
    "## 4.\tConclusion  \r\n",
    "### a.\tDetermine which firm is the most profit before and after the adjustments and explain why using the data extracted for this test"
   ],
   "metadata": {}
  },
  {
   "cell_type": "markdown",
   "source": [
    "Using the data extracted for this test, LBG has a greater pre-tax profit before (LBG: £15,267m vs Natwest: -£351m) and after (£7,958m vs £3,524m) the adjustments specified in the questions.\r\n",
    "However, LBG has insurance claims within their Consolidate Income Statement which have a value of £14,041m. If these are included then LBG still has a greater pre-tax profit before adjustments (£1,226m vs -£351m), however Natwest's profits are greater post adjustment (-£6,083m vs £3,524m).\r\n",
    "\r\n",
    "If this was a more generic paragraph to print, based on a repeatable script, then I would use f-strings to insert values and names from the tables produced based on set criteria. However, there are specific points that I wanted to highlight so have decided to use Markdown on this occasion."
   ],
   "metadata": {}
  }
 ],
 "metadata": {
  "orig_nbformat": 4,
  "language_info": {
   "name": "python",
   "version": "3.7.3",
   "mimetype": "text/x-python",
   "codemirror_mode": {
    "name": "ipython",
    "version": 3
   },
   "pygments_lexer": "ipython3",
   "nbconvert_exporter": "python",
   "file_extension": ".py"
  },
  "kernelspec": {
   "name": "python3",
   "display_name": "Python 3.7.3 64-bit ('base': conda)"
  },
  "interpreter": {
   "hash": "a3afe5e5cdba705db3c89f00abce7523bbec74349278ca24cd6914c6e1dcbaaf"
  }
 },
 "nbformat": 4,
 "nbformat_minor": 2
}
